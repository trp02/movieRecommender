{
 "cells": [
  {
   "cell_type": "code",
   "execution_count": null,
   "metadata": {},
   "outputs": [],
   "source": [
    "import pandas as pd\n",
    "from surprise import Dataset, SVD, Reader, accuracy\n",
    "from surprise.model_selection import cross_validate\n",
    "import pandas as pd\n",
    "import matplotlib.pyplot as plt\n",
    "import re\n",
    "from sklearn.preprocessing import LabelEncoder, MultiLabelBinarizer\n",
    "from surprise.model_selection import train_test_split\n",
    "import pickle\n",
    "import joblib\n"
   ]
  },
  {
   "cell_type": "code",
   "execution_count": null,
   "metadata": {},
   "outputs": [],
   "source": [
    "#movies = pd.read_csv(\"ml-latest-small/movies.csv\")\n",
    "#ratings = pd.read_csv(\"ml-latest-small/ratings.csv\")\n",
    "movies = pd.read_csv(\"ml-32m/movies.csv\")\n",
    "movieData = movies"
   ]
  },
  {
   "cell_type": "code",
   "execution_count": null,
   "metadata": {},
   "outputs": [],
   "source": [
    "#movie = movies[movies['movieID'] == 816692]\n",
    "for index,row in movies.iterrows():\n",
    "    if(str(row['movieId']) == '109487'):\n",
    "        print(row['title'])\n",
    "        break\n"
   ]
  },
  {
   "cell_type": "code",
   "execution_count": null,
   "metadata": {},
   "outputs": [],
   "source": [
    "#movieData['genres'] = movies['genres'].apply(lambda x: x.split('|'))\n",
    "\n",
    "links = pd.read_csv(\"ml-32m/links.csv\")\n",
    "movieData = pd.merge(movieData, links[['movieId', 'imdbId']], on = 'movieId', how='left')\n"
   ]
  },
  {
   "cell_type": "code",
   "execution_count": null,
   "metadata": {},
   "outputs": [],
   "source": [
    "print(str(movieData['movieId'].nunique()) + \" movies\")\n",
    "print(str(len(ratings)) + \" ratings\")"
   ]
  },
  {
   "cell_type": "code",
   "execution_count": null,
   "metadata": {},
   "outputs": [],
   "source": [
    "def extract_year(title):\n",
    "    match = re.search(r'\\((\\d{4})\\)', title)\n",
    "    if match:\n",
    "        return int(match.group(1))\n",
    "    else:\n",
    "        return None\n",
    "movieData['year'] = movieData['title'].apply(extract_year)\n"
   ]
  },
  {
   "cell_type": "code",
   "execution_count": null,
   "metadata": {},
   "outputs": [],
   "source": [
    "movieData.head()"
   ]
  },
  {
   "cell_type": "code",
   "execution_count": null,
   "metadata": {},
   "outputs": [],
   "source": [
    "\n",
    "# Adjusting plot size for readability\n",
    "plt.figure(figsize=(8, 6))\n",
    "\n",
    "# Creating a histogram with more bins to space out the data\n",
    "ratings['rating'].hist(bins=50)  # 'edgecolor' adds space between bars\n",
    "\n",
    "plt.title('Ratings distribution')\n",
    "plt.xlabel('Rating')\n",
    "plt.ylabel('Frequency')\n",
    "\n",
    "# Display the plot\n",
    "plt.show()\n"
   ]
  },
  {
   "cell_type": "code",
   "execution_count": null,
   "metadata": {},
   "outputs": [],
   "source": [
    "movieData = pd.read_csv(\"movieData_yearextracted.csv\")        #OR movieData.csv\n",
    "ratings = pd.read_csv(\"ml-32m/ratings.csv\")"
   ]
  },
  {
   "cell_type": "code",
   "execution_count": null,
   "metadata": {},
   "outputs": [],
   "source": [
    "ratings.tail()\n"
   ]
  },
  {
   "cell_type": "code",
   "execution_count": null,
   "metadata": {},
   "outputs": [],
   "source": []
  },
  {
   "cell_type": "code",
   "execution_count": null,
   "metadata": {},
   "outputs": [],
   "source": []
  },
  {
   "cell_type": "code",
   "execution_count": null,
   "metadata": {},
   "outputs": [],
   "source": [
    "reader = Reader(rating_scale = (0.5,5))\n",
    "data = Dataset.load_from_df(ratings[['userId','movieId','rating']], reader)\n"
   ]
  },
  {
   "cell_type": "code",
   "execution_count": null,
   "metadata": {},
   "outputs": [],
   "source": [
    "trainset, testset = train_test_split(data, test_size=0.05)"
   ]
  },
  {
   "cell_type": "code",
   "execution_count": null,
   "metadata": {},
   "outputs": [],
   "source": []
  },
  {
   "cell_type": "code",
   "execution_count": null,
   "metadata": {},
   "outputs": [],
   "source": [
    "algorithm = SVD()"
   ]
  },
  {
   "cell_type": "code",
   "execution_count": null,
   "metadata": {},
   "outputs": [],
   "source": [
    "algorithm.fit(trainset)"
   ]
  },
  {
   "cell_type": "code",
   "execution_count": null,
   "metadata": {},
   "outputs": [],
   "source": [
    "predictions = algorithm.test(testset)"
   ]
  },
  {
   "cell_type": "code",
   "execution_count": null,
   "metadata": {},
   "outputs": [],
   "source": [
    "accuracy.rmse(predictions)"
   ]
  },
  {
   "cell_type": "code",
   "execution_count": null,
   "metadata": {},
   "outputs": [],
   "source": [
    "with open('32m.pkl', 'rb') as file: #wb or rb\n",
    "   # pickle.dump(algorithm, file)\n",
    "    model_svd = pickle.load(file)\n"
   ]
  },
  {
   "cell_type": "code",
   "execution_count": null,
   "metadata": {},
   "outputs": [],
   "source": [
    "#model = model_svd\n",
    "model = algorithm"
   ]
  },
  {
   "cell_type": "code",
   "execution_count": null,
   "metadata": {},
   "outputs": [],
   "source": [
    "ratings.tail()"
   ]
  },
  {
   "cell_type": "code",
   "execution_count": null,
   "metadata": {},
   "outputs": [],
   "source": [
    "import pandas as pd\n",
    "\n",
    "def recommend_movies_random(user_id, model, movies, ratings, n, movie_limit):\n",
    "    # Find movie IDs that the user has already rated\n",
    "    user_id = int(user_id)  # Convert to int if 'userId' is int in ratings\n",
    "\n",
    "    # Find movie IDs that the user has already rated\n",
    "    rated_movie_ids = set(ratings[ratings['userId'] == user_id]['movieId'])\n",
    "    \n",
    "    # Randomly sample movies, then filter out those that the user has already rated\n",
    "    sampled_movies = movies[~movies['movieId'].isin(rated_movie_ids)].sample(n=movie_limit)\n",
    "    \n",
    "    # Create a list to hold predictions\n",
    "    predictions = []\n",
    "\n",
    "    # Predict ratings for the sampled movies for the given user\n",
    "    for index, row in sampled_movies.iterrows():\n",
    "        movie_id = row['movieId']\n",
    "        predicted_rating = model.predict(user_id, movie_id)\n",
    "        \n",
    "        # Store all relevant information\n",
    "        predictions.append({\n",
    "            'movieId': movie_id,\n",
    "            'title': row['title'],\n",
    "            'genres': row['genres'],\n",
    "            'imdbId': row['imdbId'],\n",
    "            'predicted_rating': predicted_rating.est\n",
    "        })\n",
    "\n",
    "    # Sort the predictions by predicted rating in descending order\n",
    "    predictions.sort(key=lambda x: x['predicted_rating'], reverse=True)\n",
    "\n",
    "    # Get the top n movie recommendations\n",
    "    top_recommendations = predictions[:n]\n",
    "\n",
    "    return top_recommendations\n",
    "\n",
    "# Example usage\n",
    "user_id = '300000'  # Replace with an actual user ID from your dataset\n",
    "recommended_movies = recommend_movies_random(user_id, model_svd, movieData, ratings, n=10, movie_limit=10000)\n",
    "\n",
    "# Print the recommended movies with titles, genres, and IMDB IDs\n",
    "print(\"Top movie recommendations for user\", user_id)\n",
    "for movie in recommended_movies:\n",
    "    print(f\"Predicted Rating: {movie['predicted_rating']:.2f} Movie: {movie['title']}\")\n",
    "    #print(f\"Title: {movie['title']}, Genres: {movie['genres']}, IMDB ID: {movie['imdbId']}, Predicted Rating: {movie['predicted_rating']:.2f}\")\n"
   ]
  },
  {
   "cell_type": "code",
   "execution_count": null,
   "metadata": {},
   "outputs": [],
   "source": []
  },
  {
   "cell_type": "code",
   "execution_count": null,
   "metadata": {},
   "outputs": [],
   "source": []
  }
 ],
 "metadata": {
  "kernelspec": {
   "display_name": "Python 3",
   "language": "python",
   "name": "python3"
  },
  "language_info": {
   "codemirror_mode": {
    "name": "ipython",
    "version": 3
   },
   "file_extension": ".py",
   "mimetype": "text/x-python",
   "name": "python",
   "nbconvert_exporter": "python",
   "pygments_lexer": "ipython3",
   "version": "3.9.13"
  }
 },
 "nbformat": 4,
 "nbformat_minor": 2
}
